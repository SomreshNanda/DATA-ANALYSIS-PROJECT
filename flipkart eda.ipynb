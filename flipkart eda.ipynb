{
 "cells": [
  {
   "cell_type": "code",
   "execution_count": 1,
   "id": "94a1fb99",
   "metadata": {},
   "outputs": [
    {
     "name": "stdout",
     "output_type": "stream",
     "text": [
      "Populating the interactive namespace from numpy and matplotlib\n"
     ]
    }
   ],
   "source": [
    "#import library\n",
    "import numpy as np\n",
    "import pandas as pd\n",
    "import seaborn as sns\n",
    "import matplotlib.pyplot as plt\n",
    "import matplotlib\n",
    "%pylab inline\n",
    "from sklearn.model_selection import train_test_split, KFold, cross_val_score\n",
    "from sklearn.linear_model import LinearRegression, RidgeCV, LassoCV\n",
    "from sklearn import metrics\n"
   ]
  },
  {
   "cell_type": "code",
   "execution_count": 4,
   "id": "f107cc09",
   "metadata": {},
   "outputs": [
    {
     "data": {
      "text/html": [
       "<div>\n",
       "<style scoped>\n",
       "    .dataframe tbody tr th:only-of-type {\n",
       "        vertical-align: middle;\n",
       "    }\n",
       "\n",
       "    .dataframe tbody tr th {\n",
       "        vertical-align: top;\n",
       "    }\n",
       "\n",
       "    .dataframe thead th {\n",
       "        text-align: right;\n",
       "    }\n",
       "</style>\n",
       "<table border=\"1\" class=\"dataframe\">\n",
       "  <thead>\n",
       "    <tr style=\"text-align: right;\">\n",
       "      <th></th>\n",
       "      <th>brand</th>\n",
       "      <th>model</th>\n",
       "      <th>base_color</th>\n",
       "      <th>processor</th>\n",
       "      <th>screen_size</th>\n",
       "      <th>ROM</th>\n",
       "      <th>RAM</th>\n",
       "      <th>display_size</th>\n",
       "      <th>num_rear_camera</th>\n",
       "      <th>num_front_camera</th>\n",
       "      <th>battery_capacity</th>\n",
       "      <th>ratings</th>\n",
       "      <th>num_of_ratings</th>\n",
       "      <th>sales_price</th>\n",
       "      <th>discount_percent</th>\n",
       "      <th>sales</th>\n",
       "    </tr>\n",
       "  </thead>\n",
       "  <tbody>\n",
       "    <tr>\n",
       "      <th>0</th>\n",
       "      <td>Apple</td>\n",
       "      <td>iPhone SE</td>\n",
       "      <td>Black</td>\n",
       "      <td>Water</td>\n",
       "      <td>Very Small</td>\n",
       "      <td>64</td>\n",
       "      <td>2</td>\n",
       "      <td>4.7</td>\n",
       "      <td>1</td>\n",
       "      <td>1</td>\n",
       "      <td>1800</td>\n",
       "      <td>4.5</td>\n",
       "      <td>38645</td>\n",
       "      <td>32999</td>\n",
       "      <td>0.17</td>\n",
       "      <td>127.52</td>\n",
       "    </tr>\n",
       "    <tr>\n",
       "      <th>1</th>\n",
       "      <td>Apple</td>\n",
       "      <td>iPhone 12 Mini</td>\n",
       "      <td>Red</td>\n",
       "      <td>Ceramic</td>\n",
       "      <td>Small</td>\n",
       "      <td>64</td>\n",
       "      <td>4</td>\n",
       "      <td>5.4</td>\n",
       "      <td>2</td>\n",
       "      <td>1</td>\n",
       "      <td>2815</td>\n",
       "      <td>4.5</td>\n",
       "      <td>244</td>\n",
       "      <td>57149</td>\n",
       "      <td>0.04</td>\n",
       "      <td>1.39</td>\n",
       "    </tr>\n",
       "    <tr>\n",
       "      <th>2</th>\n",
       "      <td>Apple</td>\n",
       "      <td>iPhone SE</td>\n",
       "      <td>Red</td>\n",
       "      <td>Water</td>\n",
       "      <td>Very Small</td>\n",
       "      <td>64</td>\n",
       "      <td>2</td>\n",
       "      <td>4.7</td>\n",
       "      <td>1</td>\n",
       "      <td>1</td>\n",
       "      <td>1800</td>\n",
       "      <td>4.5</td>\n",
       "      <td>38645</td>\n",
       "      <td>32999</td>\n",
       "      <td>0.17</td>\n",
       "      <td>127.52</td>\n",
       "    </tr>\n",
       "    <tr>\n",
       "      <th>3</th>\n",
       "      <td>Apple</td>\n",
       "      <td>iPhone XR</td>\n",
       "      <td>Others</td>\n",
       "      <td>iOS</td>\n",
       "      <td>Medium</td>\n",
       "      <td>64</td>\n",
       "      <td>3</td>\n",
       "      <td>6.1</td>\n",
       "      <td>1</td>\n",
       "      <td>1</td>\n",
       "      <td>2942</td>\n",
       "      <td>4.6</td>\n",
       "      <td>5366</td>\n",
       "      <td>42999</td>\n",
       "      <td>0.10</td>\n",
       "      <td>23.07</td>\n",
       "    </tr>\n",
       "    <tr>\n",
       "      <th>4</th>\n",
       "      <td>Apple</td>\n",
       "      <td>iPhone 12</td>\n",
       "      <td>Red</td>\n",
       "      <td>Ceramic</td>\n",
       "      <td>Medium</td>\n",
       "      <td>128</td>\n",
       "      <td>4</td>\n",
       "      <td>6.1</td>\n",
       "      <td>2</td>\n",
       "      <td>1</td>\n",
       "      <td>2815</td>\n",
       "      <td>4.6</td>\n",
       "      <td>745</td>\n",
       "      <td>69149</td>\n",
       "      <td>0.02</td>\n",
       "      <td>5.15</td>\n",
       "    </tr>\n",
       "    <tr>\n",
       "      <th>...</th>\n",
       "      <td>...</td>\n",
       "      <td>...</td>\n",
       "      <td>...</td>\n",
       "      <td>...</td>\n",
       "      <td>...</td>\n",
       "      <td>...</td>\n",
       "      <td>...</td>\n",
       "      <td>...</td>\n",
       "      <td>...</td>\n",
       "      <td>...</td>\n",
       "      <td>...</td>\n",
       "      <td>...</td>\n",
       "      <td>...</td>\n",
       "      <td>...</td>\n",
       "      <td>...</td>\n",
       "      <td>...</td>\n",
       "    </tr>\n",
       "    <tr>\n",
       "      <th>425</th>\n",
       "      <td>Xiaomi</td>\n",
       "      <td>Redmi 6 Pro</td>\n",
       "      <td>Black</td>\n",
       "      <td>Qualcomm</td>\n",
       "      <td>Small</td>\n",
       "      <td>32</td>\n",
       "      <td>3</td>\n",
       "      <td>5.8</td>\n",
       "      <td>2</td>\n",
       "      <td>1</td>\n",
       "      <td>4000</td>\n",
       "      <td>4.3</td>\n",
       "      <td>1870</td>\n",
       "      <td>7999</td>\n",
       "      <td>0.30</td>\n",
       "      <td>1.50</td>\n",
       "    </tr>\n",
       "    <tr>\n",
       "      <th>426</th>\n",
       "      <td>Xiaomi</td>\n",
       "      <td>Redmi 6 Pro</td>\n",
       "      <td>Red</td>\n",
       "      <td>Qualcomm</td>\n",
       "      <td>Small</td>\n",
       "      <td>64</td>\n",
       "      <td>4</td>\n",
       "      <td>5.8</td>\n",
       "      <td>2</td>\n",
       "      <td>1</td>\n",
       "      <td>4000</td>\n",
       "      <td>4.3</td>\n",
       "      <td>1783</td>\n",
       "      <td>9699</td>\n",
       "      <td>0.28</td>\n",
       "      <td>1.73</td>\n",
       "    </tr>\n",
       "    <tr>\n",
       "      <th>427</th>\n",
       "      <td>Xiaomi</td>\n",
       "      <td>Mi 11 Lite</td>\n",
       "      <td>Others</td>\n",
       "      <td>Qualcomm</td>\n",
       "      <td>Large</td>\n",
       "      <td>128</td>\n",
       "      <td>6</td>\n",
       "      <td>6.5</td>\n",
       "      <td>3</td>\n",
       "      <td>1</td>\n",
       "      <td>4250</td>\n",
       "      <td>4.2</td>\n",
       "      <td>1554</td>\n",
       "      <td>21999</td>\n",
       "      <td>0.12</td>\n",
       "      <td>3.42</td>\n",
       "    </tr>\n",
       "    <tr>\n",
       "      <th>428</th>\n",
       "      <td>Xiaomi</td>\n",
       "      <td>Redmi 8A Dual</td>\n",
       "      <td>Blue</td>\n",
       "      <td>Qualcomm</td>\n",
       "      <td>Medium</td>\n",
       "      <td>32</td>\n",
       "      <td>3</td>\n",
       "      <td>6.2</td>\n",
       "      <td>2</td>\n",
       "      <td>1</td>\n",
       "      <td>5000</td>\n",
       "      <td>4.2</td>\n",
       "      <td>8161</td>\n",
       "      <td>8299</td>\n",
       "      <td>0.07</td>\n",
       "      <td>6.77</td>\n",
       "    </tr>\n",
       "    <tr>\n",
       "      <th>429</th>\n",
       "      <td>Xiaomi</td>\n",
       "      <td>Redmi 6 Pro</td>\n",
       "      <td>Blue</td>\n",
       "      <td>Qualcomm</td>\n",
       "      <td>Small</td>\n",
       "      <td>32</td>\n",
       "      <td>3</td>\n",
       "      <td>5.8</td>\n",
       "      <td>2</td>\n",
       "      <td>1</td>\n",
       "      <td>4000</td>\n",
       "      <td>4.3</td>\n",
       "      <td>1870</td>\n",
       "      <td>8190</td>\n",
       "      <td>0.36</td>\n",
       "      <td>1.53</td>\n",
       "    </tr>\n",
       "  </tbody>\n",
       "</table>\n",
       "<p>430 rows × 16 columns</p>\n",
       "</div>"
      ],
      "text/plain": [
       "      brand           model base_color processor screen_size  ROM  RAM  \\\n",
       "0     Apple       iPhone SE      Black     Water  Very Small   64    2   \n",
       "1     Apple  iPhone 12 Mini        Red   Ceramic       Small   64    4   \n",
       "2     Apple       iPhone SE        Red     Water  Very Small   64    2   \n",
       "3     Apple       iPhone XR     Others       iOS      Medium   64    3   \n",
       "4     Apple       iPhone 12        Red   Ceramic      Medium  128    4   \n",
       "..      ...             ...        ...       ...         ...  ...  ...   \n",
       "425  Xiaomi     Redmi 6 Pro      Black  Qualcomm       Small   32    3   \n",
       "426  Xiaomi     Redmi 6 Pro        Red  Qualcomm       Small   64    4   \n",
       "427  Xiaomi      Mi 11 Lite     Others  Qualcomm       Large  128    6   \n",
       "428  Xiaomi   Redmi 8A Dual       Blue  Qualcomm      Medium   32    3   \n",
       "429  Xiaomi     Redmi 6 Pro       Blue  Qualcomm       Small   32    3   \n",
       "\n",
       "     display_size  num_rear_camera  num_front_camera  battery_capacity  \\\n",
       "0             4.7                1                 1              1800   \n",
       "1             5.4                2                 1              2815   \n",
       "2             4.7                1                 1              1800   \n",
       "3             6.1                1                 1              2942   \n",
       "4             6.1                2                 1              2815   \n",
       "..            ...              ...               ...               ...   \n",
       "425           5.8                2                 1              4000   \n",
       "426           5.8                2                 1              4000   \n",
       "427           6.5                3                 1              4250   \n",
       "428           6.2                2                 1              5000   \n",
       "429           5.8                2                 1              4000   \n",
       "\n",
       "     ratings  num_of_ratings  sales_price  discount_percent   sales  \n",
       "0        4.5           38645        32999              0.17  127.52  \n",
       "1        4.5             244        57149              0.04    1.39  \n",
       "2        4.5           38645        32999              0.17  127.52  \n",
       "3        4.6            5366        42999              0.10   23.07  \n",
       "4        4.6             745        69149              0.02    5.15  \n",
       "..       ...             ...          ...               ...     ...  \n",
       "425      4.3            1870         7999              0.30    1.50  \n",
       "426      4.3            1783         9699              0.28    1.73  \n",
       "427      4.2            1554        21999              0.12    3.42  \n",
       "428      4.2            8161         8299              0.07    6.77  \n",
       "429      4.3            1870         8190              0.36    1.53  \n",
       "\n",
       "[430 rows x 16 columns]"
      ]
     },
     "execution_count": 4,
     "metadata": {},
     "output_type": "execute_result"
    }
   ],
   "source": [
    "mobile = pd.read_csv(\"C:\\\\Users\\\\somre\\\\Downloads\\\\Flipkart Mobile - 2.csv\")\n",
    "mobile"
   ]
  },
  {
   "cell_type": "code",
   "execution_count": 5,
   "id": "f63ef797",
   "metadata": {},
   "outputs": [
    {
     "data": {
      "text/html": [
       "<div>\n",
       "<style scoped>\n",
       "    .dataframe tbody tr th:only-of-type {\n",
       "        vertical-align: middle;\n",
       "    }\n",
       "\n",
       "    .dataframe tbody tr th {\n",
       "        vertical-align: top;\n",
       "    }\n",
       "\n",
       "    .dataframe thead th {\n",
       "        text-align: right;\n",
       "    }\n",
       "</style>\n",
       "<table border=\"1\" class=\"dataframe\">\n",
       "  <thead>\n",
       "    <tr style=\"text-align: right;\">\n",
       "      <th></th>\n",
       "      <th>brand</th>\n",
       "      <th>model</th>\n",
       "      <th>base_color</th>\n",
       "      <th>processor</th>\n",
       "      <th>screen_size</th>\n",
       "      <th>ROM</th>\n",
       "      <th>RAM</th>\n",
       "      <th>display_size</th>\n",
       "      <th>num_rear_camera</th>\n",
       "      <th>num_front_camera</th>\n",
       "      <th>battery_capacity</th>\n",
       "      <th>ratings</th>\n",
       "      <th>num_of_ratings</th>\n",
       "      <th>sales_price</th>\n",
       "      <th>discount_percent</th>\n",
       "      <th>sales</th>\n",
       "    </tr>\n",
       "  </thead>\n",
       "  <tbody>\n",
       "    <tr>\n",
       "      <th>0</th>\n",
       "      <td>Apple</td>\n",
       "      <td>iPhone SE</td>\n",
       "      <td>Black</td>\n",
       "      <td>Water</td>\n",
       "      <td>Very Small</td>\n",
       "      <td>64</td>\n",
       "      <td>2</td>\n",
       "      <td>4.7</td>\n",
       "      <td>1</td>\n",
       "      <td>1</td>\n",
       "      <td>1800</td>\n",
       "      <td>4.5</td>\n",
       "      <td>38645</td>\n",
       "      <td>32999</td>\n",
       "      <td>0.17</td>\n",
       "      <td>127.52</td>\n",
       "    </tr>\n",
       "    <tr>\n",
       "      <th>1</th>\n",
       "      <td>Apple</td>\n",
       "      <td>iPhone 12 Mini</td>\n",
       "      <td>Red</td>\n",
       "      <td>Ceramic</td>\n",
       "      <td>Small</td>\n",
       "      <td>64</td>\n",
       "      <td>4</td>\n",
       "      <td>5.4</td>\n",
       "      <td>2</td>\n",
       "      <td>1</td>\n",
       "      <td>2815</td>\n",
       "      <td>4.5</td>\n",
       "      <td>244</td>\n",
       "      <td>57149</td>\n",
       "      <td>0.04</td>\n",
       "      <td>1.39</td>\n",
       "    </tr>\n",
       "    <tr>\n",
       "      <th>2</th>\n",
       "      <td>Apple</td>\n",
       "      <td>iPhone SE</td>\n",
       "      <td>Red</td>\n",
       "      <td>Water</td>\n",
       "      <td>Very Small</td>\n",
       "      <td>64</td>\n",
       "      <td>2</td>\n",
       "      <td>4.7</td>\n",
       "      <td>1</td>\n",
       "      <td>1</td>\n",
       "      <td>1800</td>\n",
       "      <td>4.5</td>\n",
       "      <td>38645</td>\n",
       "      <td>32999</td>\n",
       "      <td>0.17</td>\n",
       "      <td>127.52</td>\n",
       "    </tr>\n",
       "    <tr>\n",
       "      <th>3</th>\n",
       "      <td>Apple</td>\n",
       "      <td>iPhone XR</td>\n",
       "      <td>Others</td>\n",
       "      <td>iOS</td>\n",
       "      <td>Medium</td>\n",
       "      <td>64</td>\n",
       "      <td>3</td>\n",
       "      <td>6.1</td>\n",
       "      <td>1</td>\n",
       "      <td>1</td>\n",
       "      <td>2942</td>\n",
       "      <td>4.6</td>\n",
       "      <td>5366</td>\n",
       "      <td>42999</td>\n",
       "      <td>0.10</td>\n",
       "      <td>23.07</td>\n",
       "    </tr>\n",
       "    <tr>\n",
       "      <th>4</th>\n",
       "      <td>Apple</td>\n",
       "      <td>iPhone 12</td>\n",
       "      <td>Red</td>\n",
       "      <td>Ceramic</td>\n",
       "      <td>Medium</td>\n",
       "      <td>128</td>\n",
       "      <td>4</td>\n",
       "      <td>6.1</td>\n",
       "      <td>2</td>\n",
       "      <td>1</td>\n",
       "      <td>2815</td>\n",
       "      <td>4.6</td>\n",
       "      <td>745</td>\n",
       "      <td>69149</td>\n",
       "      <td>0.02</td>\n",
       "      <td>5.15</td>\n",
       "    </tr>\n",
       "  </tbody>\n",
       "</table>\n",
       "</div>"
      ],
      "text/plain": [
       "   brand           model base_color processor screen_size  ROM  RAM  \\\n",
       "0  Apple       iPhone SE      Black     Water  Very Small   64    2   \n",
       "1  Apple  iPhone 12 Mini        Red   Ceramic       Small   64    4   \n",
       "2  Apple       iPhone SE        Red     Water  Very Small   64    2   \n",
       "3  Apple       iPhone XR     Others       iOS      Medium   64    3   \n",
       "4  Apple       iPhone 12        Red   Ceramic      Medium  128    4   \n",
       "\n",
       "   display_size  num_rear_camera  num_front_camera  battery_capacity  ratings  \\\n",
       "0           4.7                1                 1              1800      4.5   \n",
       "1           5.4                2                 1              2815      4.5   \n",
       "2           4.7                1                 1              1800      4.5   \n",
       "3           6.1                1                 1              2942      4.6   \n",
       "4           6.1                2                 1              2815      4.6   \n",
       "\n",
       "   num_of_ratings  sales_price  discount_percent   sales  \n",
       "0           38645        32999              0.17  127.52  \n",
       "1             244        57149              0.04    1.39  \n",
       "2           38645        32999              0.17  127.52  \n",
       "3            5366        42999              0.10   23.07  \n",
       "4             745        69149              0.02    5.15  "
      ]
     },
     "execution_count": 5,
     "metadata": {},
     "output_type": "execute_result"
    }
   ],
   "source": [
    "mobile.head()"
   ]
  },
  {
   "cell_type": "code",
   "execution_count": 6,
   "id": "9ae700db",
   "metadata": {},
   "outputs": [
    {
     "data": {
      "text/html": [
       "<div>\n",
       "<style scoped>\n",
       "    .dataframe tbody tr th:only-of-type {\n",
       "        vertical-align: middle;\n",
       "    }\n",
       "\n",
       "    .dataframe tbody tr th {\n",
       "        vertical-align: top;\n",
       "    }\n",
       "\n",
       "    .dataframe thead th {\n",
       "        text-align: right;\n",
       "    }\n",
       "</style>\n",
       "<table border=\"1\" class=\"dataframe\">\n",
       "  <thead>\n",
       "    <tr style=\"text-align: right;\">\n",
       "      <th></th>\n",
       "      <th>ROM</th>\n",
       "      <th>RAM</th>\n",
       "      <th>display_size</th>\n",
       "      <th>num_rear_camera</th>\n",
       "      <th>num_front_camera</th>\n",
       "      <th>battery_capacity</th>\n",
       "      <th>ratings</th>\n",
       "      <th>num_of_ratings</th>\n",
       "      <th>sales_price</th>\n",
       "      <th>discount_percent</th>\n",
       "      <th>sales</th>\n",
       "    </tr>\n",
       "  </thead>\n",
       "  <tbody>\n",
       "    <tr>\n",
       "      <th>count</th>\n",
       "      <td>430.000000</td>\n",
       "      <td>430.000000</td>\n",
       "      <td>430.000000</td>\n",
       "      <td>430.000000</td>\n",
       "      <td>430.000000</td>\n",
       "      <td>430.000000</td>\n",
       "      <td>430.000000</td>\n",
       "      <td>430.000000</td>\n",
       "      <td>430.000000</td>\n",
       "      <td>430.000000</td>\n",
       "      <td>430.000000</td>\n",
       "    </tr>\n",
       "    <tr>\n",
       "      <th>mean</th>\n",
       "      <td>105.748837</td>\n",
       "      <td>5.320930</td>\n",
       "      <td>6.369767</td>\n",
       "      <td>2.904651</td>\n",
       "      <td>1.044186</td>\n",
       "      <td>4529.397674</td>\n",
       "      <td>4.339302</td>\n",
       "      <td>23567.944186</td>\n",
       "      <td>25433.234884</td>\n",
       "      <td>0.108000</td>\n",
       "      <td>29.752326</td>\n",
       "    </tr>\n",
       "    <tr>\n",
       "      <th>std</th>\n",
       "      <td>63.164064</td>\n",
       "      <td>2.182635</td>\n",
       "      <td>0.369549</td>\n",
       "      <td>0.952350</td>\n",
       "      <td>0.227280</td>\n",
       "      <td>986.907252</td>\n",
       "      <td>0.151494</td>\n",
       "      <td>56096.277784</td>\n",
       "      <td>22471.926588</td>\n",
       "      <td>0.073432</td>\n",
       "      <td>58.399588</td>\n",
       "    </tr>\n",
       "    <tr>\n",
       "      <th>min</th>\n",
       "      <td>8.000000</td>\n",
       "      <td>1.000000</td>\n",
       "      <td>4.700000</td>\n",
       "      <td>1.000000</td>\n",
       "      <td>1.000000</td>\n",
       "      <td>1800.000000</td>\n",
       "      <td>3.000000</td>\n",
       "      <td>4.000000</td>\n",
       "      <td>5742.000000</td>\n",
       "      <td>0.010000</td>\n",
       "      <td>0.000000</td>\n",
       "    </tr>\n",
       "    <tr>\n",
       "      <th>25%</th>\n",
       "      <td>64.000000</td>\n",
       "      <td>4.000000</td>\n",
       "      <td>6.300000</td>\n",
       "      <td>2.000000</td>\n",
       "      <td>1.000000</td>\n",
       "      <td>4000.000000</td>\n",
       "      <td>4.300000</td>\n",
       "      <td>745.000000</td>\n",
       "      <td>11999.000000</td>\n",
       "      <td>0.060000</td>\n",
       "      <td>1.640000</td>\n",
       "    </tr>\n",
       "    <tr>\n",
       "      <th>50%</th>\n",
       "      <td>128.000000</td>\n",
       "      <td>4.000000</td>\n",
       "      <td>6.500000</td>\n",
       "      <td>3.000000</td>\n",
       "      <td>1.000000</td>\n",
       "      <td>4500.000000</td>\n",
       "      <td>4.300000</td>\n",
       "      <td>5197.500000</td>\n",
       "      <td>16989.500000</td>\n",
       "      <td>0.090000</td>\n",
       "      <td>9.655000</td>\n",
       "    </tr>\n",
       "    <tr>\n",
       "      <th>75%</th>\n",
       "      <td>128.000000</td>\n",
       "      <td>6.000000</td>\n",
       "      <td>6.500000</td>\n",
       "      <td>4.000000</td>\n",
       "      <td>1.000000</td>\n",
       "      <td>5000.000000</td>\n",
       "      <td>4.400000</td>\n",
       "      <td>21089.250000</td>\n",
       "      <td>28999.000000</td>\n",
       "      <td>0.160000</td>\n",
       "      <td>29.717500</td>\n",
       "    </tr>\n",
       "    <tr>\n",
       "      <th>max</th>\n",
       "      <td>512.000000</td>\n",
       "      <td>12.000000</td>\n",
       "      <td>7.600000</td>\n",
       "      <td>4.000000</td>\n",
       "      <td>3.000000</td>\n",
       "      <td>7000.000000</td>\n",
       "      <td>4.600000</td>\n",
       "      <td>642373.000000</td>\n",
       "      <td>157999.000000</td>\n",
       "      <td>0.440000</td>\n",
       "      <td>550.190000</td>\n",
       "    </tr>\n",
       "  </tbody>\n",
       "</table>\n",
       "</div>"
      ],
      "text/plain": [
       "              ROM         RAM  display_size  num_rear_camera  \\\n",
       "count  430.000000  430.000000    430.000000       430.000000   \n",
       "mean   105.748837    5.320930      6.369767         2.904651   \n",
       "std     63.164064    2.182635      0.369549         0.952350   \n",
       "min      8.000000    1.000000      4.700000         1.000000   \n",
       "25%     64.000000    4.000000      6.300000         2.000000   \n",
       "50%    128.000000    4.000000      6.500000         3.000000   \n",
       "75%    128.000000    6.000000      6.500000         4.000000   \n",
       "max    512.000000   12.000000      7.600000         4.000000   \n",
       "\n",
       "       num_front_camera  battery_capacity     ratings  num_of_ratings  \\\n",
       "count        430.000000        430.000000  430.000000      430.000000   \n",
       "mean           1.044186       4529.397674    4.339302    23567.944186   \n",
       "std            0.227280        986.907252    0.151494    56096.277784   \n",
       "min            1.000000       1800.000000    3.000000        4.000000   \n",
       "25%            1.000000       4000.000000    4.300000      745.000000   \n",
       "50%            1.000000       4500.000000    4.300000     5197.500000   \n",
       "75%            1.000000       5000.000000    4.400000    21089.250000   \n",
       "max            3.000000       7000.000000    4.600000   642373.000000   \n",
       "\n",
       "         sales_price  discount_percent       sales  \n",
       "count     430.000000        430.000000  430.000000  \n",
       "mean    25433.234884          0.108000   29.752326  \n",
       "std     22471.926588          0.073432   58.399588  \n",
       "min      5742.000000          0.010000    0.000000  \n",
       "25%     11999.000000          0.060000    1.640000  \n",
       "50%     16989.500000          0.090000    9.655000  \n",
       "75%     28999.000000          0.160000   29.717500  \n",
       "max    157999.000000          0.440000  550.190000  "
      ]
     },
     "execution_count": 6,
     "metadata": {},
     "output_type": "execute_result"
    }
   ],
   "source": [
    "mobile.describe()"
   ]
  },
  {
   "cell_type": "code",
   "execution_count": 7,
   "id": "545e8c54",
   "metadata": {},
   "outputs": [
    {
     "name": "stdout",
     "output_type": "stream",
     "text": [
      "<class 'pandas.core.frame.DataFrame'>\n",
      "RangeIndex: 430 entries, 0 to 429\n",
      "Data columns (total 16 columns):\n",
      " #   Column            Non-Null Count  Dtype  \n",
      "---  ------            --------------  -----  \n",
      " 0   brand             430 non-null    object \n",
      " 1   model             430 non-null    object \n",
      " 2   base_color        430 non-null    object \n",
      " 3   processor         430 non-null    object \n",
      " 4   screen_size       430 non-null    object \n",
      " 5   ROM               430 non-null    int64  \n",
      " 6   RAM               430 non-null    int64  \n",
      " 7   display_size      430 non-null    float64\n",
      " 8   num_rear_camera   430 non-null    int64  \n",
      " 9   num_front_camera  430 non-null    int64  \n",
      " 10  battery_capacity  430 non-null    int64  \n",
      " 11  ratings           430 non-null    float64\n",
      " 12  num_of_ratings    430 non-null    int64  \n",
      " 13  sales_price       430 non-null    int64  \n",
      " 14  discount_percent  430 non-null    float64\n",
      " 15  sales             430 non-null    float64\n",
      "dtypes: float64(4), int64(7), object(5)\n",
      "memory usage: 53.9+ KB\n"
     ]
    }
   ],
   "source": [
    "mobile.info()"
   ]
  },
  {
   "cell_type": "code",
   "execution_count": 8,
   "id": "cdcd9a1f",
   "metadata": {},
   "outputs": [
    {
     "data": {
      "image/png": "[encoded data removed]",
      "text/plain": [
       "<Figure size 864x432 with 2 Axes>"
      ]
     },
     "metadata": {
      "needs_background": "light"
     },
     "output_type": "display_data"
    }
   ],
   "source": [
    "#heatmap correlation\n",
    "plt.figure(figsize = (12,6))\n",
    "sns.heatmap(mobile.corr(), vmax = 0.9, square = True)\n",
    "plt.title(\"Pearson Correlation\")\n",
    "plt.show()"
   ]
  },
  {
   "cell_type": "code",
   "execution_count": 9,
   "id": "cbe6e3ba",
   "metadata": {},
   "outputs": [
    {
     "data": {
      "text/html": [
       "<div>\n",
       "<style scoped>\n",
       "    .dataframe tbody tr th:only-of-type {\n",
       "        vertical-align: middle;\n",
       "    }\n",
       "\n",
       "    .dataframe tbody tr th {\n",
       "        vertical-align: top;\n",
       "    }\n",
       "\n",
       "    .dataframe thead th {\n",
       "        text-align: right;\n",
       "    }\n",
       "</style>\n",
       "<table border=\"1\" class=\"dataframe\">\n",
       "  <thead>\n",
       "    <tr style=\"text-align: right;\">\n",
       "      <th></th>\n",
       "      <th>ROM</th>\n",
       "      <th>RAM</th>\n",
       "      <th>display_size</th>\n",
       "      <th>num_rear_camera</th>\n",
       "      <th>num_front_camera</th>\n",
       "      <th>battery_capacity</th>\n",
       "      <th>ratings</th>\n",
       "      <th>num_of_ratings</th>\n",
       "      <th>sales_price</th>\n",
       "      <th>discount_percent</th>\n",
       "      <th>...</th>\n",
       "      <th>processor_Exynos</th>\n",
       "      <th>processor_MediaTek</th>\n",
       "      <th>processor_Others</th>\n",
       "      <th>processor_Qualcomm</th>\n",
       "      <th>processor_Water</th>\n",
       "      <th>processor_iOS</th>\n",
       "      <th>screen_size_Medium</th>\n",
       "      <th>screen_size_Small</th>\n",
       "      <th>screen_size_Very Large</th>\n",
       "      <th>screen_size_Very Small</th>\n",
       "    </tr>\n",
       "  </thead>\n",
       "  <tbody>\n",
       "    <tr>\n",
       "      <th>0</th>\n",
       "      <td>64</td>\n",
       "      <td>2</td>\n",
       "      <td>4.7</td>\n",
       "      <td>1</td>\n",
       "      <td>1</td>\n",
       "      <td>1800</td>\n",
       "      <td>4.5</td>\n",
       "      <td>38645</td>\n",
       "      <td>32999</td>\n",
       "      <td>0.17</td>\n",
       "      <td>...</td>\n",
       "      <td>0</td>\n",
       "      <td>0</td>\n",
       "      <td>0</td>\n",
       "      <td>0</td>\n",
       "      <td>1</td>\n",
       "      <td>0</td>\n",
       "      <td>0</td>\n",
       "      <td>0</td>\n",
       "      <td>0</td>\n",
       "      <td>1</td>\n",
       "    </tr>\n",
       "    <tr>\n",
       "      <th>1</th>\n",
       "      <td>64</td>\n",
       "      <td>4</td>\n",
       "      <td>5.4</td>\n",
       "      <td>2</td>\n",
       "      <td>1</td>\n",
       "      <td>2815</td>\n",
       "      <td>4.5</td>\n",
       "      <td>244</td>\n",
       "      <td>57149</td>\n",
       "      <td>0.04</td>\n",
       "      <td>...</td>\n",
       "      <td>0</td>\n",
       "      <td>0</td>\n",
       "      <td>0</td>\n",
       "      <td>0</td>\n",
       "      <td>0</td>\n",
       "      <td>0</td>\n",
       "      <td>0</td>\n",
       "      <td>1</td>\n",
       "      <td>0</td>\n",
       "      <td>0</td>\n",
       "    </tr>\n",
       "    <tr>\n",
       "      <th>2</th>\n",
       "      <td>64</td>\n",
       "      <td>2</td>\n",
       "      <td>4.7</td>\n",
       "      <td>1</td>\n",
       "      <td>1</td>\n",
       "      <td>1800</td>\n",
       "      <td>4.5</td>\n",
       "      <td>38645</td>\n",
       "      <td>32999</td>\n",
       "      <td>0.17</td>\n",
       "      <td>...</td>\n",
       "      <td>0</td>\n",
       "      <td>0</td>\n",
       "      <td>0</td>\n",
       "      <td>0</td>\n",
       "      <td>1</td>\n",
       "      <td>0</td>\n",
       "      <td>0</td>\n",
       "      <td>0</td>\n",
       "      <td>0</td>\n",
       "      <td>1</td>\n",
       "    </tr>\n",
       "    <tr>\n",
       "      <th>3</th>\n",
       "      <td>64</td>\n",
       "      <td>3</td>\n",
       "      <td>6.1</td>\n",
       "      <td>1</td>\n",
       "      <td>1</td>\n",
       "      <td>2942</td>\n",
       "      <td>4.6</td>\n",
       "      <td>5366</td>\n",
       "      <td>42999</td>\n",
       "      <td>0.10</td>\n",
       "      <td>...</td>\n",
       "      <td>0</td>\n",
       "      <td>0</td>\n",
       "      <td>0</td>\n",
       "      <td>0</td>\n",
       "      <td>0</td>\n",
       "      <td>1</td>\n",
       "      <td>1</td>\n",
       "      <td>0</td>\n",
       "      <td>0</td>\n",
       "      <td>0</td>\n",
       "    </tr>\n",
       "    <tr>\n",
       "      <th>4</th>\n",
       "      <td>128</td>\n",
       "      <td>4</td>\n",
       "      <td>6.1</td>\n",
       "      <td>2</td>\n",
       "      <td>1</td>\n",
       "      <td>2815</td>\n",
       "      <td>4.6</td>\n",
       "      <td>745</td>\n",
       "      <td>69149</td>\n",
       "      <td>0.02</td>\n",
       "      <td>...</td>\n",
       "      <td>0</td>\n",
       "      <td>0</td>\n",
       "      <td>0</td>\n",
       "      <td>0</td>\n",
       "      <td>0</td>\n",
       "      <td>0</td>\n",
       "      <td>1</td>\n",
       "      <td>0</td>\n",
       "      <td>0</td>\n",
       "      <td>0</td>\n",
       "    </tr>\n",
       "  </tbody>\n",
       "</table>\n",
       "<p>5 rows × 154 columns</p>\n",
       "</div>"
      ],
      "text/plain": [
       "   ROM  RAM  display_size  num_rear_camera  num_front_camera  \\\n",
       "0   64    2           4.7                1                 1   \n",
       "1   64    4           5.4                2                 1   \n",
       "2   64    2           4.7                1                 1   \n",
       "3   64    3           6.1                1                 1   \n",
       "4  128    4           6.1                2                 1   \n",
       "\n",
       "   battery_capacity  ratings  num_of_ratings  sales_price  discount_percent  \\\n",
       "0              1800      4.5           38645        32999              0.17   \n",
       "1              2815      4.5             244        57149              0.04   \n",
       "2              1800      4.5           38645        32999              0.17   \n",
       "3              2942      4.6            5366        42999              0.10   \n",
       "4              2815      4.6             745        69149              0.02   \n",
       "\n",
       "   ...  processor_Exynos  processor_MediaTek  processor_Others  \\\n",
       "0  ...                 0                   0                 0   \n",
       "1  ...                 0                   0                 0   \n",
       "2  ...                 0                   0                 0   \n",
       "3  ...                 0                   0                 0   \n",
       "4  ...                 0                   0                 0   \n",
       "\n",
       "   processor_Qualcomm  processor_Water  processor_iOS  screen_size_Medium  \\\n",
       "0                   0                1              0                   0   \n",
       "1                   0                0              0                   0   \n",
       "2                   0                1              0                   0   \n",
       "3                   0                0              1                   1   \n",
       "4                   0                0              0                   1   \n",
       "\n",
       "   screen_size_Small  screen_size_Very Large  screen_size_Very Small  \n",
       "0                  0                       0                       1  \n",
       "1                  1                       0                       0  \n",
       "2                  0                       0                       1  \n",
       "3                  0                       0                       0  \n",
       "4                  0                       0                       0  \n",
       "\n",
       "[5 rows x 154 columns]"
      ]
     },
     "execution_count": 9,
     "metadata": {},
     "output_type": "execute_result"
    }
   ],
   "source": [
    "#handling categorical data\n",
    "df = pd.get_dummies(mobile, drop_first = True)\n",
    "df.head()"
   ]
  },
  {
   "cell_type": "code",
   "execution_count": 10,
   "id": "81267d39",
   "metadata": {},
   "outputs": [
    {
     "name": "stdout",
     "output_type": "stream",
     "text": [
      "(301, 153)\n",
      "(301,)\n",
      "(129, 153)\n",
      "(129,)\n"
     ]
    }
   ],
   "source": [
    "#split data\n",
    "X = df.drop('sales_price', axis = 1)\n",
    "y = df['sales_price']\n",
    "X_train, X_test, y_train, y_test = train_test_split(X, y, test_size = 0.3, random_state = 0)\n",
    "print(X_train.shape)\n",
    "print(y_train.shape)\n",
    "print(X_test.shape)\n",
    "print(y_test.shape)"
   ]
  },
  {
   "cell_type": "markdown",
   "id": "5e676661",
   "metadata": {},
   "source": [
    "#### Regression Model"
   ]
  },
  {
   "cell_type": "code",
   "execution_count": 11,
   "id": "7efff9cf",
   "metadata": {},
   "outputs": [
    {
     "name": "stdout",
     "output_type": "stream",
     "text": [
      "Wall time: 61.5 ms\n"
     ]
    },
    {
     "data": {
      "text/plain": [
       "-5439142078.463281"
      ]
     },
     "execution_count": 11,
     "metadata": {},
     "output_type": "execute_result"
    }
   ],
   "source": [
    "#Linear Regression\n",
    "lr = LinearRegression()\n",
    "%time lr.fit(X_train, y_train)\n",
    "lr.score(X_test, y_test)"
   ]
  },
  {
   "cell_type": "code",
   "execution_count": 12,
   "id": "9119c9e9",
   "metadata": {},
   "outputs": [
    {
     "name": "stdout",
     "output_type": "stream",
     "text": [
      "Wall time: 23.5 ms\n"
     ]
    },
    {
     "data": {
      "text/plain": [
       "0.9576420994886806"
      ]
     },
     "execution_count": 12,
     "metadata": {},
     "output_type": "execute_result"
    }
   ],
   "source": [
    "#Ridge Regression\n",
    "ridge = RidgeCV()\n",
    "%time ridge.fit(X_train, y_train)\n",
    "ridge.score(X_test, y_test)"
   ]
  },
  {
   "cell_type": "code",
   "execution_count": 13,
   "id": "a1913379",
   "metadata": {},
   "outputs": [
    {
     "name": "stdout",
     "output_type": "stream",
     "text": [
      "Wall time: 76.6 ms\n"
     ]
    },
    {
     "data": {
      "text/plain": [
       "0.6926538816511842"
      ]
     },
     "execution_count": 13,
     "metadata": {},
     "output_type": "execute_result"
    }
   ],
   "source": [
    "#Lasso Regression\n",
    "lasso = LassoCV()\n",
    "%time lasso.fit(X_train, y_train)\n",
    "lasso.score(X_test, y_test)"
   ]
  },
  {
   "cell_type": "code",
   "execution_count": 19,
   "id": "eb9c7133",
   "metadata": {},
   "outputs": [
    {
     "data": {
      "text/html": [
       "<div>\n",
       "<style scoped>\n",
       "    .dataframe tbody tr th:only-of-type {\n",
       "        vertical-align: middle;\n",
       "    }\n",
       "\n",
       "    .dataframe tbody tr th {\n",
       "        vertical-align: top;\n",
       "    }\n",
       "\n",
       "    .dataframe thead th {\n",
       "        text-align: right;\n",
       "    }\n",
       "</style>\n",
       "<table border=\"1\" class=\"dataframe\">\n",
       "  <thead>\n",
       "    <tr style=\"text-align: right;\">\n",
       "      <th></th>\n",
       "      <th>Accuracy</th>\n",
       "    </tr>\n",
       "  </thead>\n",
       "  <tbody>\n",
       "    <tr>\n",
       "      <th>Ridge Regression</th>\n",
       "      <td>9.576421e-01</td>\n",
       "    </tr>\n",
       "    <tr>\n",
       "      <th>Lasso Regression</th>\n",
       "      <td>6.926539e-01</td>\n",
       "    </tr>\n",
       "    <tr>\n",
       "      <th>Linear Regression</th>\n",
       "      <td>-5.439142e+09</td>\n",
       "    </tr>\n",
       "  </tbody>\n",
       "</table>\n",
       "</div>"
      ],
      "text/plain": [
       "                       Accuracy\n",
       "Ridge Regression   9.576421e-01\n",
       "Lasso Regression   6.926539e-01\n",
       "Linear Regression -5.439142e+09"
      ]
     },
     "execution_count": 19,
     "metadata": {},
     "output_type": "execute_result"
    }
   ],
   "source": [
    "#compare MLA\n",
    "MLA = [\"Linear Regression\", \"Ridge Regression\", \"Lasso Regression\"]\n",
    "clfs = [LinearRegression(), RidgeCV(), LassoCV()]\n",
    "result = []\n",
    "\n",
    "for clff in clfs:\n",
    "    clff.fit(X_train, y_train)\n",
    "    acc = clff.score(X_test, y_test)\n",
    "    result.append(acc)\n",
    "    \n",
    "result_df = pd.DataFrame(result, index = MLA)\n",
    "result_df.columns = [\"Accuracy\"]\n",
    "result_df.sort_values(by = \"Accuracy\", ascending = False)\n"
   ]
  },
  {
   "cell_type": "markdown",
   "id": "a1b403c2",
   "metadata": {},
   "source": [
    "### Ridge Regression model is the best score result"
   ]
  },
  {
   "cell_type": "code",
   "execution_count": 17,
   "id": "329cf1d1",
   "metadata": {},
   "outputs": [
    {
     "name": "stdout",
     "output_type": "stream",
     "text": [
      "[13355.08429937 14467.72678722 44109.68107695  7074.66191234\n",
      " 59530.00286757 21752.76653923 32779.06010456 13039.88283262\n",
      " 12882.87922137  1847.87882455 47369.57149363 13487.49487536\n",
      " 33149.39752782 13259.68876652 45893.5096898  10691.35171934\n",
      " 15314.30838131 24629.88335963 13768.00584364 25441.91341974\n",
      " 17933.41574837  8162.04688538 14081.33242553 59687.00647882\n",
      " 69214.39472741 19726.5635215  18312.72823768 20252.65023527\n",
      "  8769.43984718 62339.50295982 29938.08807108 32021.76023663\n",
      " 23642.27530102 36055.74422801 34103.10064709 20589.32132667\n",
      " 16218.79449733 11375.88152626 32652.89348768 11080.80618433\n",
      " 17811.70620289 11473.1344295  35396.97785306 17253.85799565\n",
      " 46985.71505559 25579.77700981 11511.96537612 10952.08214289\n",
      " 14576.74901989 15564.30981751 95517.95791445 12629.23718154\n",
      " 69258.79401075 11236.66156937 23848.8263493   9070.3761576\n",
      " 10848.63809676 12968.9685967  20851.85584907 12860.65310317\n",
      " 17878.19190209  6470.8846277  13971.22274707  8665.99580105\n",
      " 27580.71432141  9956.57067248 20223.06756164  7166.94574885\n",
      "  6652.76667372 19822.62057261  8639.49120954 17980.95183762\n",
      " 22601.18706033 12201.45459814 17794.48141766 17081.53695686\n",
      "  1414.36914755 44098.39091747 67891.45483655 16576.75760467\n",
      " 77153.76848589 47006.20877106 12442.47733314 69808.85761601\n",
      " 13008.55751981 13458.5283455  14096.53513442 11872.3855664\n",
      " 11733.16560952 17899.29472879 65952.6863951   8143.61725335\n",
      " 36021.96497499  8321.3779723  67545.77346555  8671.73419881\n",
      " 75664.12546158  8874.19851851 16816.78421444 68681.51915324\n",
      " 33201.74746144 22103.95137853 62732.56295384 10902.25125329\n",
      "  8311.52645724 13388.17958347 25121.50859601 14038.30384338\n",
      " 16080.25356453 11502.76182014 75524.30988142 18211.37165743\n",
      " 14331.58682692  7337.25707521 49852.06698368 15141.62499533\n",
      " 12598.20792645 19530.47919279 12387.57879851 18173.2925253\n",
      " 19593.47355593 20812.77089686  9955.72312682  9370.70255865\n",
      " 69155.34996462 15510.77672404 11378.549033    7579.79027607\n",
      " 14785.38506128]\n"
     ]
    }
   ],
   "source": [
    "#prediction\n",
    "y_pred = ridge.predict(X_test)\n",
    "print(y_pred)"
   ]
  },
  {
   "cell_type": "code",
   "execution_count": 20,
   "id": "07a5a0dc",
   "metadata": {},
   "outputs": [
    {
     "name": "stdout",
     "output_type": "stream",
     "text": [
      "Mean Absolute Error :  2053.67\n",
      "Mean Squared Error :  17486804.34\n",
      "Root Mean Squared Error :  45.317435938058104\n",
      "R Squared :  0.9576420994886806\n"
     ]
    }
   ],
   "source": [
    "#check MAE, MSE, RMSE, R-Squared\n",
    "print('Mean Absolute Error : ', metrics.mean_absolute_error(y_test, y_pred).round(2))\n",
    "print('Mean Squared Error : ', metrics.mean_squared_error(y_test, y_pred).round(2))\n",
    "print('Root Mean Squared Error : ', np.sqrt(metrics.mean_absolute_error(y_test, y_pred).round(2)))\n",
    "print('R Squared : ', metrics.r2_score(y_test, y_pred))"
   ]
  },
  {
   "cell_type": "code",
   "execution_count": 21,
   "id": "49f9010f",
   "metadata": {},
   "outputs": [
    {
     "name": "stderr",
     "output_type": "stream",
     "text": [
      "C:\\Users\\somre\\Anacondanew\\lib\\site-packages\\seaborn\\distributions.py:2619: FutureWarning: `distplot` is a deprecated function and will be removed in a future version. Please adapt your code to use either `displot` (a figure-level function with similar flexibility) or `histplot` (an axes-level function for histograms).\n",
      "  warnings.warn(msg, FutureWarning)\n"
     ]
    },
    {
     "data": {
      "image/png": "[encoded data removed]",
      "text/plain": [
       "<Figure size 720x432 with 1 Axes>"
      ]
     },
     "metadata": {
      "needs_background": "light"
     },
     "output_type": "display_data"
    }
   ],
   "source": [
    "#distribution\n",
    "plt.figure(figsize = (10,6))\n",
    "sns.distplot(df['sales_price'])\n",
    "plt.title(\"Distribution of Sales Price\")\n",
    "plt.show()\n"
   ]
  },
  {
   "cell_type": "code",
   "execution_count": 22,
   "id": "a9ad9252",
   "metadata": {},
   "outputs": [
    {
     "data": {
      "text/plain": [
       "Text(0.5, 0, 'log10(Sales Price)')"
      ]
     },
     "execution_count": 22,
     "metadata": {},
     "output_type": "execute_result"
    },
    {
     "data": {
      "image/png": "[encoded data removed]",
      "text/plain": [
       "<Figure size 720x432 with 2 Axes>"
      ]
     },
     "metadata": {
      "needs_background": "light"
     },
     "output_type": "display_data"
    }
   ],
   "source": [
    "#change distribution\n",
    "figure(figsize = (10,6))\n",
    "subplot(1,2,1)\n",
    "hist(df['sales_price'] * 1e-6, 20);\n",
    "xlabel(\"Sales Price\")\n",
    "subplot(1, 2, 2)\n",
    "hist(log10(mobile['sales_price']),20);\n",
    "xlabel(\"log10(Sales Price)\")\n"
   ]
  },
  {
   "cell_type": "markdown",
   "id": "db26fa23",
   "metadata": {},
   "source": [
    "### Check Feature Importance"
   ]
  },
  {
   "cell_type": "code",
   "execution_count": 23,
   "id": "52f2575c",
   "metadata": {},
   "outputs": [],
   "source": [
    "#defining feature\n",
    "coef = pd.Series(ridge.coef_, index = X.columns)\n",
    "\n",
    "imp_coef = pd.concat([coef.sort_values().head(10),\n",
    "                     coef.sort_values().tail(10)])"
   ]
  },
  {
   "cell_type": "code",
   "execution_count": 24,
   "id": "c56ffcdf",
   "metadata": {},
   "outputs": [
    {
     "data": {
      "image/png": "[encoded data removed]",
      "text/plain": [
       "<Figure size 720x432 with 1 Axes>"
      ]
     },
     "metadata": {
      "needs_background": "light"
     },
     "output_type": "display_data"
    }
   ],
   "source": [
    "#visualize feature\n",
    "plt.figure(figsize = (10,6))\n",
    "imp_coef.plot(kind = 'barh')\n",
    "plt.title(\"Feature Importance\")\n",
    "plt.xlabel('Score')\n",
    "plt.ylabel('Features')\n",
    "plt.show()"
   ]
  },
  {
   "cell_type": "markdown",
   "id": "7e55681c",
   "metadata": {},
   "source": [
    "#### Visualisation"
   ]
  },
  {
   "cell_type": "code",
   "execution_count": 25,
   "id": "fec5187c",
   "metadata": {},
   "outputs": [
    {
     "name": "stderr",
     "output_type": "stream",
     "text": [
      "C:\\Users\\somre\\Anacondanew\\lib\\site-packages\\seaborn\\_decorators.py:36: FutureWarning: Pass the following variable as a keyword arg: x. From version 0.12, the only valid positional argument will be `data`, and passing other arguments without an explicit keyword will result in an error or misinterpretation.\n",
      "  warnings.warn(\n"
     ]
    },
    {
     "data": {
      "image/png": "[encoded data removed]",
      "text/plain": [
       "<Figure size 720x432 with 1 Axes>"
      ]
     },
     "metadata": {
      "needs_background": "light"
     },
     "output_type": "display_data"
    }
   ],
   "source": [
    "#visualize brand\n",
    "plt.figure(figsize = (10,6))\n",
    "sns.countplot(mobile['brand'], palette = 'Set2')\n",
    "plt.title(\"Brand\")\n",
    "plt.show()\n"
   ]
  },
  {
   "cell_type": "code",
   "execution_count": 26,
   "id": "de856601",
   "metadata": {},
   "outputs": [
    {
     "name": "stderr",
     "output_type": "stream",
     "text": [
      "C:\\Users\\somre\\Anacondanew\\lib\\site-packages\\seaborn\\_decorators.py:36: FutureWarning: Pass the following variable as a keyword arg: x. From version 0.12, the only valid positional argument will be `data`, and passing other arguments without an explicit keyword will result in an error or misinterpretation.\n",
      "  warnings.warn(\n"
     ]
    },
    {
     "data": {
      "image/png": "[encoded data removed]",
      "text/plain": [
       "<Figure size 792x432 with 1 Axes>"
      ]
     },
     "metadata": {
      "needs_background": "light"
     },
     "output_type": "display_data"
    }
   ],
   "source": [
    "#visualize 100 row data of model\n",
    "plt.figure(figsize = (11,6))\n",
    "chart = sns.countplot(mobile['model'][0:100].values, palette = 'Set2')\n",
    "chart.set_xticklabels(chart.get_xticklabels(), rotation = 45)\n",
    "plt.title(\"Model\")\n",
    "plt.show()"
   ]
  },
  {
   "cell_type": "code",
   "execution_count": 27,
   "id": "9b83a225",
   "metadata": {},
   "outputs": [
    {
     "name": "stderr",
     "output_type": "stream",
     "text": [
      "C:\\Users\\somre\\Anacondanew\\lib\\site-packages\\seaborn\\_decorators.py:36: FutureWarning: Pass the following variable as a keyword arg: x. From version 0.12, the only valid positional argument will be `data`, and passing other arguments without an explicit keyword will result in an error or misinterpretation.\n",
      "  warnings.warn(\n"
     ]
    },
    {
     "data": {
      "image/png": "[encoded data removed]",
      "text/plain": [
       "<Figure size 720x432 with 1 Axes>"
      ]
     },
     "metadata": {
      "needs_background": "light"
     },
     "output_type": "display_data"
    }
   ],
   "source": [
    "#visualize color\n",
    "plt.figure(figsize = (10,6))\n",
    "sns.countplot(mobile['base_color'], palette = 'Set2')\n",
    "plt.title(\"Base Color\")\n",
    "plt.show()"
   ]
  },
  {
   "cell_type": "code",
   "execution_count": 28,
   "id": "17c6a766",
   "metadata": {},
   "outputs": [
    {
     "name": "stderr",
     "output_type": "stream",
     "text": [
      "C:\\Users\\somre\\Anacondanew\\lib\\site-packages\\seaborn\\_decorators.py:36: FutureWarning: Pass the following variable as a keyword arg: x. From version 0.12, the only valid positional argument will be `data`, and passing other arguments without an explicit keyword will result in an error or misinterpretation.\n",
      "  warnings.warn(\n"
     ]
    },
    {
     "data": {
      "image/png": "[encoded data removed]",
      "text/plain": [
       "<Figure size 720x432 with 1 Axes>"
      ]
     },
     "metadata": {
      "needs_background": "light"
     },
     "output_type": "display_data"
    }
   ],
   "source": [
    "#visualize processor\n",
    "plt.figure(figsize = (10,6))\n",
    "sns.countplot(mobile['processor'], palette = 'Set2')\n",
    "plt.title(\"Processor\")\n",
    "plt.show()\n"
   ]
  },
  {
   "cell_type": "code",
   "execution_count": 39,
   "id": "8aeb700d",
   "metadata": {},
   "outputs": [
    {
     "data": {
      "text/plain": [
       "<AxesSubplot:xlabel='battery_capacity', ylabel='Density'>"
      ]
     },
     "execution_count": 39,
     "metadata": {},
     "output_type": "execute_result"
    },
    {
     "data": {
      "image/png": "[encoded data removed]",
      "text/plain": [
       "<Figure size 800x640 with 1 Axes>"
      ]
     },
     "metadata": {
      "needs_background": "light"
     },
     "output_type": "display_data"
    }
   ],
   "source": [
    "import seaborn as sns\n",
    "figure(figsize=(10, 8), dpi=80)\n",
    "sns.kdeplot(df['battery_capacity'])"
   ]
  },
  {
   "cell_type": "markdown",
   "id": "cc2725d8",
   "metadata": {},
   "source": [
    "### Number of Mobiles based on the screen size"
   ]
  },
  {
   "cell_type": "code",
   "execution_count": 29,
   "id": "f605496b",
   "metadata": {},
   "outputs": [
    {
     "name": "stderr",
     "output_type": "stream",
     "text": [
      "C:\\Users\\somre\\Anacondanew\\lib\\site-packages\\seaborn\\_decorators.py:36: FutureWarning: Pass the following variable as a keyword arg: x. From version 0.12, the only valid positional argument will be `data`, and passing other arguments without an explicit keyword will result in an error or misinterpretation.\n",
      "  warnings.warn(\n"
     ]
    },
    {
     "data": {
      "image/png": "[encoded data removed]",
      "text/plain": [
       "<Figure size 720x432 with 1 Axes>"
      ]
     },
     "metadata": {
      "needs_background": "light"
     },
     "output_type": "display_data"
    }
   ],
   "source": [
    "#visualize screen size\n",
    "plt.figure(figsize = (10,6))\n",
    "sns.countplot(mobile['screen_size'], palette = 'Set2')\n",
    "plt.title(\"Screen Size\")\n",
    "plt.show()\n"
   ]
  },
  {
   "cell_type": "code",
   "execution_count": 30,
   "id": "858ee022",
   "metadata": {},
   "outputs": [
    {
     "name": "stdout",
     "output_type": "stream",
     "text": [
      "      brand base_color  Count\n",
      "0     Apple      Black     12\n",
      "1     Apple       Blue      8\n",
      "2     Apple       Gold      1\n",
      "3     Apple      Green      6\n",
      "4     Apple     Others      4\n",
      "5     Apple     Purple      4\n",
      "6     Apple        Red      7\n",
      "7     Apple      White     11\n",
      "8     Apple     Yellow      3\n",
      "9      Poco      Black     17\n",
      "10     Poco       Blue     18\n",
      "11     Poco     Bronze      2\n",
      "12     Poco       Gray      3\n",
      "13     Poco      Green      2\n",
      "14     Poco     Others      3\n",
      "15     Poco        Red      3\n",
      "16     Poco     Silver      3\n",
      "17     Poco     Yellow      5\n",
      "18   Realme      Black     26\n",
      "19   Realme       Blue     43\n",
      "20   Realme       Gray      9\n",
      "21   Realme      Green      5\n",
      "22   Realme     Others      9\n",
      "23   Realme     Purple      1\n",
      "24   Realme        Red      2\n",
      "25   Realme     Silver     24\n",
      "26   Realme      White     16\n",
      "27   Realme     Yellow      3\n",
      "28  Samsung      Black     38\n",
      "29  Samsung       Blue     33\n",
      "30  Samsung     Bronze      3\n",
      "31  Samsung       Gold      2\n",
      "32  Samsung       Gray      7\n",
      "33  Samsung      Green     10\n",
      "34  Samsung     Others      9\n",
      "35  Samsung        Red      4\n",
      "36  Samsung     Silver      3\n",
      "37  Samsung      White     10\n",
      "38   Xiaomi      Black     19\n",
      "39   Xiaomi       Blue     15\n",
      "40   Xiaomi       Gold      8\n",
      "41   Xiaomi       Gray      1\n",
      "42   Xiaomi      Green      1\n",
      "43   Xiaomi     Others      3\n",
      "44   Xiaomi        Red      5\n",
      "45   Xiaomi     Silver      2\n",
      "46   Xiaomi      White      7\n"
     ]
    }
   ],
   "source": [
    "#group brand & color\n",
    "brand_color = mobile.groupby(['brand', 'base_color']).size().reset_index(name = 'Count')\n",
    "print(brand_color)"
   ]
  },
  {
   "cell_type": "code",
   "execution_count": 31,
   "id": "55d615f0",
   "metadata": {},
   "outputs": [
    {
     "data": {
      "image/png": "[encoded data removed]",
      "text/plain": [
       "<Figure size 864x432 with 1 Axes>"
      ]
     },
     "metadata": {
      "needs_background": "light"
     },
     "output_type": "display_data"
    }
   ],
   "source": [
    "#viusalize brand ~ color\n",
    "plt.figure(figsize = (12,6))\n",
    "sns.barplot(x = 'brand', y = 'Count', hue = 'base_color', data = brand_color, palette = 'Set1')\n",
    "plt.title(\"Brand ~ Color\")\n",
    "plt.legend(bbox_to_anchor = (1.04,1), borderaxespad = 0)\n",
    "plt.show()"
   ]
  },
  {
   "cell_type": "code",
   "execution_count": 32,
   "id": "219fead2",
   "metadata": {},
   "outputs": [
    {
     "name": "stdout",
     "output_type": "stream",
     "text": [
      "      brand processor  Count\n",
      "0     Apple   Ceramic     33\n",
      "1     Apple     Water     11\n",
      "2     Apple       iOS     12\n",
      "3      Poco  MediaTek     23\n",
      "4      Poco  Qualcomm     33\n",
      "5    Realme  MediaTek     91\n",
      "6    Realme    Others      6\n",
      "7    Realme  Qualcomm     41\n",
      "8   Samsung    Exynos     53\n",
      "9   Samsung  MediaTek     25\n",
      "10  Samsung    Others      3\n",
      "11  Samsung  Qualcomm     38\n",
      "12   Xiaomi  MediaTek      5\n",
      "13   Xiaomi  Qualcomm     56\n"
     ]
    }
   ],
   "source": [
    "#group brand & processor\n",
    "brand_processor = mobile.groupby(['brand', 'processor']).size().reset_index(name = 'Count')\n",
    "print(brand_processor)"
   ]
  },
  {
   "cell_type": "code",
   "execution_count": 33,
   "id": "c6a69658",
   "metadata": {},
   "outputs": [
    {
     "data": {
      "image/png": "[encoded data removed]",
      "text/plain": [
       "<Figure size 864x432 with 1 Axes>"
      ]
     },
     "metadata": {
      "needs_background": "light"
     },
     "output_type": "display_data"
    }
   ],
   "source": [
    "#viusalize brand ~ processor\n",
    "plt.figure(figsize = (12,6))\n",
    "sns.barplot(x = 'brand', y = 'Count', hue = 'processor', data = brand_processor, palette = 'Set1')\n",
    "plt.title(\"Brand ~ Processor\")\n",
    "plt.legend(bbox_to_anchor = (1.04,1), borderaxespad = 0)\n",
    "plt.show()"
   ]
  },
  {
   "cell_type": "code",
   "execution_count": 34,
   "id": "a76ab3aa",
   "metadata": {},
   "outputs": [
    {
     "name": "stdout",
     "output_type": "stream",
     "text": [
      "      brand screen_size  Count\n",
      "0     Apple      Medium     35\n",
      "1     Apple       Small     17\n",
      "2     Apple  Very Small      4\n",
      "3      Poco       Large     54\n",
      "4      Poco      Medium      2\n",
      "5    Realme       Large     82\n",
      "6    Realme      Medium     56\n",
      "7   Samsung       Large     82\n",
      "8   Samsung      Medium     26\n",
      "9   Samsung       Small      7\n",
      "10  Samsung  Very Large      4\n",
      "11   Xiaomi       Large     24\n",
      "12   Xiaomi      Medium     27\n",
      "13   Xiaomi       Small     10\n"
     ]
    }
   ],
   "source": [
    "#group brand & size\n",
    "brand_size = mobile.groupby(['brand', 'screen_size']).size().reset_index(name = 'Count')\n",
    "print(brand_size)"
   ]
  },
  {
   "cell_type": "code",
   "execution_count": 35,
   "id": "912ba642",
   "metadata": {},
   "outputs": [
    {
     "data": {
      "image/png": "[encoded data removed]",
      "text/plain": [
       "<Figure size 864x432 with 1 Axes>"
      ]
     },
     "metadata": {
      "needs_background": "light"
     },
     "output_type": "display_data"
    }
   ],
   "source": [
    "#viusalize brand ~ processor\n",
    "plt.figure(figsize = (12,6))\n",
    "sns.barplot(x = 'brand', y = 'Count', hue = 'screen_size', data = brand_size, palette = 'Set1')\n",
    "plt.title(\"Brand ~ Screen Size\")\n",
    "plt.legend(bbox_to_anchor = (1.04,1), borderaxespad = 0)\n",
    "plt.show()"
   ]
  },
  {
   "cell_type": "code",
   "execution_count": 36,
   "id": "8b3ed8fe",
   "metadata": {},
   "outputs": [
    {
     "data": {
      "image/png": "[encoded data removed]",
      "text/plain": [
       "<Figure size 720x432 with 1 Axes>"
      ]
     },
     "metadata": {
      "needs_background": "light"
     },
     "output_type": "display_data"
    }
   ],
   "source": [
    "plt.figure(figsize = (10,6))\n",
    "sns.boxplot(x = 'brand',y = 'sales_price', data = mobile)\n",
    "plt.title(\"Brand ~ Sales Price\")\n",
    "plt.show()"
   ]
  },
  {
   "cell_type": "code",
   "execution_count": 37,
   "id": "6b21b194",
   "metadata": {},
   "outputs": [
    {
     "data": {
      "image/png": "[encoded data removed]",
      "text/plain": [
       "<Figure size 1080x720 with 12 Axes>"
      ]
     },
     "metadata": {
      "needs_background": "light"
     },
     "output_type": "display_data"
    }
   ],
   "source": [
    "mobile.hist(figsize = (15,10))\n",
    "plt.show()"
   ]
  },
  {
   "cell_type": "code",
   "execution_count": 38,
   "id": "76a463c5",
   "metadata": {},
   "outputs": [
    {
     "data": {
      "text/plain": [
       "<AxesSubplot:xlabel='ratings', ylabel='Count'>"
      ]
     },
     "execution_count": 38,
     "metadata": {},
     "output_type": "execute_result"
    },
    {
     "data": {
      "image/png": "[encoded data removed]",
      "text/plain": [
       "<Figure size 800x640 with 1 Axes>"
      ]
     },
     "metadata": {
      "needs_background": "light"
     },
     "output_type": "display_data"
    }
   ],
   "source": [
    "import seaborn as sns\n",
    "figure(figsize=(10, 8), dpi=80)\n",
    "sns.histplot(df['ratings'])"
   ]
  },
  {
   "cell_type": "code",
   "execution_count": null,
   "id": "8183fdad",
   "metadata": {},
   "outputs": [],
   "source": []
  }
 ],
 "metadata": {
  "kernelspec": {
   "display_name": "Python 3 (ipykernel)",
   "language": "python",
   "name": "python3"
  },
  "language_info": {
   "codemirror_mode": {
    "name": "ipython",
    "version": 3
   },
   "file_extension": ".py",
   "mimetype": "text/x-python",
   "name": "python",
   "nbconvert_exporter": "python",
   "pygments_lexer": "ipython3",
   "version": "3.9.7"
  }
 },
 "nbformat": 4,
 "nbformat_minor": 5
}
